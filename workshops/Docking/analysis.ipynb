{
 "cells": [
  {
   "cell_type": "code",
   "execution_count": 1,
   "metadata": {},
   "outputs": [
    {
     "data": {
      "application/vnd.jupyter.widget-view+json": {
       "model_id": "460fecb6c6784710bf11f7c84f5cf4c7",
       "version_major": 2,
       "version_minor": 0
      },
      "text/plain": [
       "_ColormakerRegistry()"
      ]
     },
     "metadata": {},
     "output_type": "display_data"
    }
   ],
   "source": [
    "import numpy as np\n",
    "import pandas as pd\n",
    "\n",
    "# Отображение структур\n",
    "import nglview as nv\n",
    "\n",
    "import MDAnalysis as mda\n",
    "from MDAnalysis.analysis.rms import rmsd"
   ]
  },
  {
   "cell_type": "markdown",
   "metadata": {},
   "source": [
    "# Визуализация структуры\n",
    "Рассмотрим структуру человеческого B2-adrenergic рецептора (один из подтипов адренорецепторов) в комплексе с лигандом CAU. (см. [2RH1](https://www.rcsb.org/structure/2RH1) и [CAU](https://www.rcsb.org/ligand/CAU))\n",
    "\n",
    "Для этого скачаем и визуализируем кристаллическую структуру человеческого B2-адренергического рецептора, связанного с G-белком:"
   ]
  },
  {
   "cell_type": "code",
   "execution_count": 2,
   "metadata": {},
   "outputs": [
    {
     "name": "stdout",
     "output_type": "stream",
     "text": [
      "--2022-04-23 21:36:22--  https://files.rcsb.org/view/2rh1.pdb\n",
      "Resolving files.rcsb.org (files.rcsb.org)... 128.6.158.49\n",
      "Connecting to files.rcsb.org (files.rcsb.org)|128.6.158.49|:443... connected.\n",
      "HTTP request sent, awaiting response... 200 OK\n",
      "Length: unspecified [text/plain]\n",
      "Saving to: ‘2rh1.pdb’\n",
      "\n",
      "2rh1.pdb                [   <=>              ] 367.51K   632KB/s    in 0.6s    \n",
      "\n",
      "2022-04-23 21:36:24 (632 KB/s) - ‘2rh1.pdb’ saved [376326]\n",
      "\n"
     ]
    }
   ],
   "source": [
    "!wget https://files.rcsb.org/view/2rh1.pdb"
   ]
  },
  {
   "cell_type": "code",
   "execution_count": 3,
   "metadata": {},
   "outputs": [
    {
     "data": {
      "application/vnd.jupyter.widget-view+json": {
       "model_id": "1eac9ce2aedb40f0bab7bf050d503999",
       "version_major": 2,
       "version_minor": 0
      },
      "text/plain": [
       "NGLWidget()"
      ]
     },
     "metadata": {},
     "output_type": "display_data"
    }
   ],
   "source": [
    "view = nv.show_structure_file('2rh1.pdb')\n",
    "view"
   ]
  },
  {
   "cell_type": "markdown",
   "metadata": {},
   "source": [
    "Выделим белок и лиганд в отдельные структуры и запишем их в отдельные файлы:"
   ]
  },
  {
   "cell_type": "code",
   "execution_count": 4,
   "metadata": {},
   "outputs": [],
   "source": [
    "s=mda.Universe(\"2rh1.pdb\")\n",
    "prot=s.select_atoms('protein and resid 29:342')\n",
    "lig = s.atoms.select_atoms('resname CAU')"
   ]
  },
  {
   "cell_type": "code",
   "execution_count": 5,
   "metadata": {},
   "outputs": [],
   "source": [
    "prot.write(\"2rh1_prot.pdb\")\n",
    "lig.write(\"2rh1_ligand.pdb\")"
   ]
  },
  {
   "cell_type": "code",
   "execution_count": 6,
   "metadata": {},
   "outputs": [
    {
     "data": {
      "application/vnd.jupyter.widget-view+json": {
       "model_id": "78d31964c26440b884b057568a2d5e09",
       "version_major": 2,
       "version_minor": 0
      },
      "text/plain": [
       "NGLWidget()"
      ]
     },
     "metadata": {},
     "output_type": "display_data"
    }
   ],
   "source": [
    "view = nv.show_structure_file('2rh1_prot.pdb')\n",
    "view"
   ]
  },
  {
   "cell_type": "code",
   "execution_count": 7,
   "metadata": {},
   "outputs": [
    {
     "data": {
      "application/vnd.jupyter.widget-view+json": {
       "model_id": "8781c330fe6e47139d3c1355176abfee",
       "version_major": 2,
       "version_minor": 0
      },
      "text/plain": [
       "NGLWidget()"
      ]
     },
     "metadata": {},
     "output_type": "display_data"
    }
   ],
   "source": [
    "view = nv.show_structure_file('2rh1_ligand.pdb')\n",
    "view"
   ]
  },
  {
   "cell_type": "markdown",
   "metadata": {},
   "source": [
    "# Подготовка белка\n",
    "\n",
    "## Для реализации докинга нам потребуется:\n",
    "- структуры рецептора и лиганда в формате pdbqt\n",
    "- координаты центра лиганды\n",
    "- размер ячейки для докинга в Ангстремах\n",
    "- количество ядер (параметр по умолчанию)\n",
    "- точность расчетов по Autodock Vina (параметр по умолчанию)\n",
    "- число конформаций лиганда (по умолчаю данный параметр не может быть более 9)\n",
    "- максимальное отклонение энергии (параметр по умолчанию)\n",
    "\n",
    "Преобразуем файлы к формату pdbqt:"
   ]
  },
  {
   "cell_type": "code",
   "execution_count": 16,
   "metadata": {},
   "outputs": [
    {
     "name": "stderr",
     "output_type": "stream",
     "text": [
      "1 molecule converted\n"
     ]
    }
   ],
   "source": [
    "%%bash\n",
    "obabel 2rh1_prot.pdb -xr -O 2rh1_prot.pdbqt -h"
   ]
  },
  {
   "cell_type": "code",
   "execution_count": 17,
   "metadata": {},
   "outputs": [
    {
     "data": {
      "application/vnd.jupyter.widget-view+json": {
       "model_id": "423863d72cd144a3bb35fbe02d3b0dc8",
       "version_major": 2,
       "version_minor": 0
      },
      "text/plain": [
       "NGLWidget()"
      ]
     },
     "metadata": {},
     "output_type": "display_data"
    }
   ],
   "source": [
    "view = nv.show_structure_file('2rh1_prot.pdbqt')\n",
    "view"
   ]
  },
  {
   "cell_type": "code",
   "execution_count": 18,
   "metadata": {},
   "outputs": [
    {
     "name": "stderr",
     "output_type": "stream",
     "text": [
      "1 molecule converted\n"
     ]
    }
   ],
   "source": [
    "%%bash\n",
    "obabel -ipdb 2rh1_ligand.pdb -opdbqt -O 2rh1_ligand.pdbqt -p 7 -h"
   ]
  },
  {
   "cell_type": "code",
   "execution_count": 19,
   "metadata": {},
   "outputs": [
    {
     "data": {
      "application/vnd.jupyter.widget-view+json": {
       "model_id": "80a9505d797949cc9c01906e8773b62f",
       "version_major": 2,
       "version_minor": 0
      },
      "text/plain": [
       "NGLWidget()"
      ]
     },
     "metadata": {},
     "output_type": "display_data"
    }
   ],
   "source": [
    "view = nv.show_structure_file('2rh1_ligand.pdbqt')\n",
    "view"
   ]
  },
  {
   "cell_type": "code",
   "execution_count": 20,
   "metadata": {},
   "outputs": [
    {
     "name": "stderr",
     "output_type": "stream",
     "text": [
      "1 molecule converted\n"
     ]
    }
   ],
   "source": [
    "%%bash\n",
    "obabel -ipdbqt 2rh1_ligand.pdbqt -omol2 -O 2rh1_ligand.mol2"
   ]
  },
  {
   "cell_type": "code",
   "execution_count": 21,
   "metadata": {},
   "outputs": [
    {
     "data": {
      "application/vnd.jupyter.widget-view+json": {
       "model_id": "8f9613c5bb654cde87d90bbd7abd1bed",
       "version_major": 2,
       "version_minor": 0
      },
      "text/plain": [
       "NGLWidget()"
      ]
     },
     "metadata": {},
     "output_type": "display_data"
    }
   ],
   "source": [
    "view = nv.show_structure_file('2rh1_ligand.mol2')\n",
    "view"
   ]
  },
  {
   "cell_type": "markdown",
   "metadata": {},
   "source": [
    "Рассчитаем координаты центра лиганды:"
   ]
  },
  {
   "cell_type": "code",
   "execution_count": 30,
   "metadata": {},
   "outputs": [
    {
     "name": "stdout",
     "output_type": "stream",
     "text": [
      "[-33.477  10.957   8.17 ]\n",
      "[-32.267  10.23    8.041]\n",
      "[-32.478   8.951   7.225]\n",
      "[-33.702   8.25    7.6  ]\n",
      "[-33.806   6.805   7.498]\n",
      "[-33.533   6.385   6.055]\n",
      "[-35.184   6.35    7.988]\n",
      "[-31.242  11.105   7.364]\n",
      "[-30.049  10.367   7.182]\n",
      "[-28.931  10.857   6.581]\n",
      "[-28.911  12.133   6.005]\n",
      "[-27.768  12.628   5.393]\n",
      "[-26.608  11.875   5.332]\n",
      "[-26.565  10.625   5.875]\n",
      "[-27.768  10.108   6.517]\n",
      "[-25.593   9.657   5.974]\n",
      "[-26.096   8.561   6.637]\n",
      "[-27.482   8.863   6.976]\n",
      "[-25.589   7.338   7.009]\n",
      "[-26.395   6.432   7.689]\n",
      "[-27.717   6.731   8.006]\n",
      "[-28.269   7.948   7.652]\n"
     ]
    }
   ],
   "source": [
    "for a in lig.positions:\n",
    "    print(a)"
   ]
  },
  {
   "cell_type": "code",
   "execution_count": 22,
   "metadata": {},
   "outputs": [
    {
     "name": "stdout",
     "output_type": "stream",
     "text": [
      "center:  [-29.519545, 9.2343645, 6.9440446]\n"
     ]
    }
   ],
   "source": [
    "center = [np.mean([a[0] for a in lig.positions]),\n",
    "          np.mean([a[1] for a in lig.positions]),\n",
    "          np.mean([a[2] for a in lig.positions])]\n",
    "print('center: ', center)"
   ]
  },
  {
   "cell_type": "markdown",
   "metadata": {},
   "source": [
    "## Визуализация результатов докинга\n",
    "\n",
    "Все 9 конформаций лиганда для центра [-29.519545, 9.2343645, 6.9440446]"
   ]
  },
  {
   "cell_type": "code",
   "execution_count": 23,
   "metadata": {},
   "outputs": [
    {
     "data": {
      "application/vnd.jupyter.widget-view+json": {
       "model_id": "310c8a8b80f341258900ab9cc5461e94",
       "version_major": 2,
       "version_minor": 0
      },
      "text/plain": [
       "NGLWidget()"
      ]
     },
     "metadata": {},
     "output_type": "display_data"
    }
   ],
   "source": [
    "merged=mda.Universe('pose_0_0_0_0.pdb')\n",
    "for i in range(1, 9):\n",
    "    conf=mda.Universe('pose_0_0_0_%s.pdb' % i, format='pdb')\n",
    "    merged = mda.Merge(merged.atoms, conf.atoms)\n",
    "view = nv.show_mdanalysis(merged)\n",
    "view.representations = [\n",
    "    {\"type\": \"line\", \"params\": {\n",
    "        \"sele\": \"all\"\n",
    "    }}\n",
    "]\n",
    "view"
   ]
  },
  {
   "cell_type": "markdown",
   "metadata": {},
   "source": [
    "Визуализируем наилучшую и исходную конформации лиганда:"
   ]
  },
  {
   "cell_type": "code",
   "execution_count": 24,
   "metadata": {},
   "outputs": [
    {
     "data": {
      "application/vnd.jupyter.widget-view+json": {
       "model_id": "43615aed7ffe46c1bb582206e6e23f49",
       "version_major": 2,
       "version_minor": 0
      },
      "text/plain": [
       "NGLWidget()"
      ]
     },
     "metadata": {},
     "output_type": "display_data"
    }
   ],
   "source": [
    "best_conf=mda.Universe('pose_0_0_0_0.pdb')\n",
    "lig_best_conf = mda.Merge(lig.atoms, best_conf.atoms)\n",
    "view = nv.show_mdanalysis(lig_best_conf)\n",
    "view.representations = [\n",
    "    {\"type\": \"line\", \"params\": {\n",
    "        \"sele\": \"all\"\n",
    "    }}\n",
    "]\n",
    "view"
   ]
  },
  {
   "cell_type": "markdown",
   "metadata": {},
   "source": [
    "Визуализируем наилучшую конформацию лиганда с белком:"
   ]
  },
  {
   "cell_type": "code",
   "execution_count": 25,
   "metadata": {},
   "outputs": [
    {
     "data": {
      "application/vnd.jupyter.widget-view+json": {
       "model_id": "4bdf5e4d7ea54adea1788d0dbdc7ea21",
       "version_major": 2,
       "version_minor": 0
      },
      "text/plain": [
       "NGLWidget()"
      ]
     },
     "metadata": {},
     "output_type": "display_data"
    }
   ],
   "source": [
    "prot_lig_best = mda.Merge(prot.atoms, best_conf.atoms)\n",
    "nv.show_mdanalysis(prot_lig_best)"
   ]
  },
  {
   "cell_type": "code",
   "execution_count": 26,
   "metadata": {},
   "outputs": [
    {
     "name": "stderr",
     "output_type": "stream",
     "text": [
      "1 molecule converted\n"
     ]
    }
   ],
   "source": [
    "%%bash\n",
    "obabel -ipdbqt 2rh1_ligand.pdbqt -opdb -O 2rh1_ligand_2.pdb -p 7 -h"
   ]
  },
  {
   "cell_type": "code",
   "execution_count": 32,
   "metadata": {},
   "outputs": [
    {
     "name": "stdout",
     "output_type": "stream",
     "text": [
      "RMSD of ligand and best conformation: 0.9946900447252749\n"
     ]
    }
   ],
   "source": [
    "ligand=mda.Universe('2rh1_ligand_2.pdb')\n",
    "rmsd_0 = rmsd(ligand.atoms.select_atoms('not name H').positions, best_conf.atoms.select_atoms('not name H').positions)\n",
    "print('RMSD of ligand and best conformation: {}'.format(rmsd_0))"
   ]
  },
  {
   "cell_type": "code",
   "execution_count": 28,
   "metadata": {},
   "outputs": [
    {
     "name": "stdout",
     "output_type": "stream",
     "text": [
      "RMSD of ligand and best conformation: 0.9145391776473468\n",
      "RMSD of ligand and best conformation: 0.9438332562703475\n",
      "RMSD of ligand and best conformation: 0.9879569968037942\n",
      "RMSD of ligand and best conformation: 1.153606408018885\n",
      "RMSD of ligand and best conformation: 0.976407648431394\n",
      "RMSD of ligand and best conformation: 0.9951863429309055\n",
      "RMSD of ligand and best conformation: 0.9706747175909016\n",
      "RMSD of ligand and best conformation: 0.9522947701285388\n",
      "RMSD of ligand and best conformation: 1.2109785271492501\n",
      "RMSD of ligand and best conformation: 0.9295981728169875\n",
      "RMSD of ligand and best conformation: 0.9979168843058426\n",
      "RMSD of ligand and best conformation: 1.2120996769372576\n",
      "RMSD of ligand and best conformation: 0.9154704333988866\n",
      "RMSD of ligand and best conformation: 0.9946900447252749\n",
      "RMSD of ligand and best conformation: 1.0182307055018105\n",
      "RMSD of ligand and best conformation: 0.923916975331923\n",
      "RMSD of ligand and best conformation: 0.9562642283532398\n",
      "RMSD of ligand and best conformation: 1.1854481053702168\n",
      "RMSD of ligand and best conformation: 1.1851383382410485\n",
      "RMSD of ligand and best conformation: 0.9316900176866098\n",
      "RMSD of ligand and best conformation: 1.2100745977606495\n",
      "RMSD of ligand and best conformation: 1.0856469168165923\n",
      "RMSD of ligand and best conformation: 0.9415791844448854\n",
      "RMSD of ligand and best conformation: 1.1968154482195676\n",
      "RMSD of ligand and best conformation: 1.0374414376876027\n",
      "RMSD of ligand and best conformation: 0.9532810733690944\n",
      "RMSD of ligand and best conformation: 1.200565922960897\n"
     ]
    }
   ],
   "source": [
    "for i in [-1,0,1]:\n",
    "    for j in [-1,0,1]:\n",
    "        for k in [-1,0,1]:\n",
    "            best_pose=mda.Universe('pose_{}_{}_{}_0.pdb'.format(i,j,k))\n",
    "            pose_rmsd = rmsd(ligand.atoms.select_atoms('not name H').positions, best_pose.atoms.select_atoms('not name H').positions)\n",
    "            print('RMSD of ligand and best conformation: {}'.format(pose_rmsd))"
   ]
  },
  {
   "cell_type": "code",
   "execution_count": null,
   "metadata": {},
   "outputs": [],
   "source": []
  }
 ],
 "metadata": {
  "kernelspec": {
   "display_name": "Python [conda env:moldyn]",
   "language": "python",
   "name": "conda-env-moldyn-py"
  },
  "language_info": {
   "codemirror_mode": {
    "name": "ipython",
    "version": 3
   },
   "file_extension": ".py",
   "mimetype": "text/x-python",
   "name": "python",
   "nbconvert_exporter": "python",
   "pygments_lexer": "ipython3",
   "version": "3.7.3"
  }
 },
 "nbformat": 4,
 "nbformat_minor": 4
}
